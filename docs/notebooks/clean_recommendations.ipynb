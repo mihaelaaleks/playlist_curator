{
 "cells": [
  {
   "cell_type": "code",
   "execution_count": null,
   "metadata": {},
   "outputs": [],
   "source": [
    "%load_ext autoreload\n",
    "%autoreload 2"
   ]
  },
  {
   "cell_type": "code",
   "execution_count": 6,
   "metadata": {},
   "outputs": [],
   "source": [
    "import pandas as pd\n",
    "from pathlib import Path\n",
    "import json"
   ]
  },
  {
   "cell_type": "code",
   "execution_count": 7,
   "metadata": {},
   "outputs": [],
   "source": [
    "file_path = Path('../data/recommended.json')"
   ]
  },
  {
   "cell_type": "code",
   "execution_count": 8,
   "metadata": {},
   "outputs": [],
   "source": [
    "with open(file_path, 'r') as file: \n",
    "    rec_data = json.loads(file.read())"
   ]
  },
  {
   "cell_type": "code",
   "execution_count": 21,
   "metadata": {},
   "outputs": [],
   "source": [
    "track_data = rec_data['tracks']"
   ]
  },
  {
   "cell_type": "code",
   "execution_count": 78,
   "metadata": {},
   "outputs": [],
   "source": [
    "def clean_track_recommendations(track_data): \n",
    "    cleaned_track_list = {}\n",
    "    dfs = []\n",
    "    for item in track_data:\n",
    "        cleaned_track_list[\"track_id\"] = item['id']\n",
    "        cleaned_track_list[\"track_name\"] = item['name']\n",
    "        cleaned_track_list[\"track_url\"] = item['external_urls']['spotify']\n",
    "        cleaned_track_list[\"artist_name\"] = item['artists']\n",
    "        cleaned_track_list['album_id'] = item['album']['id']\n",
    "        cleaned_track_list['image'] = item['album']['images']\n",
    "        cleaned_track_list[\"track_popularity\"] = item['popularity']\n",
    "        df = pd.DataFrame([cleaned_track_list])\n",
    "        dfs.append(df)\n",
    "    recommended_tracks_df = pd.concat(dfs)\n",
    "    return recommended_tracks_df"
   ]
  },
  {
   "cell_type": "code",
   "execution_count": 79,
   "metadata": {},
   "outputs": [],
   "source": [
    "rec_df = clean_track_recommendations(track_data=track_data)"
   ]
  },
  {
   "cell_type": "code",
   "execution_count": 80,
   "metadata": {},
   "outputs": [],
   "source": [
    "def get_link(from_image_row, tag):\n",
    "    if len(from_image_row) == 0:\n",
    "        return None\n",
    "    first_entry = from_image_row[0]\n",
    "    return first_entry[tag]"
   ]
  },
  {
   "cell_type": "code",
   "execution_count": 81,
   "metadata": {},
   "outputs": [],
   "source": [
    "rec_df['image'] = rec_df['image'].apply(lambda x: get_link(x, 'url'))"
   ]
  },
  {
   "cell_type": "code",
   "execution_count": 83,
   "metadata": {},
   "outputs": [
    {
     "data": {
      "text/plain": [
       "[{'external_urls': {'spotify': 'https://open.spotify.com/artist/3y6SKYXXP4lrliD6CzVXH3'},\n",
       "  'href': 'https://api.spotify.com/v1/artists/3y6SKYXXP4lrliD6CzVXH3',\n",
       "  'id': '3y6SKYXXP4lrliD6CzVXH3',\n",
       "  'name': 'Sugar Candy Mountain',\n",
       "  'type': 'artist',\n",
       "  'uri': 'spotify:artist:3y6SKYXXP4lrliD6CzVXH3'}]"
      ]
     },
     "execution_count": 83,
     "metadata": {},
     "output_type": "execute_result"
    }
   ],
   "source": [
    "rec_df['artist_name'].iloc[0]"
   ]
  },
  {
   "cell_type": "code",
   "execution_count": 84,
   "metadata": {},
   "outputs": [],
   "source": [
    "rec_df['artist_name'] = rec_df['artist_name'].apply(lambda x: get_link(x, 'name'))"
   ]
  },
  {
   "cell_type": "code",
   "execution_count": 92,
   "metadata": {},
   "outputs": [
    {
     "data": {
      "text/plain": [
       "track_id                                       7qiEDdDpfVZF1bbEuk6n1d\n",
       "track_name                                        Requiem Pour Un Con\n",
       "track_url           https://open.spotify.com/track/7qiEDdDpfVZF1bb...\n",
       "artist_name                                      Sugar Candy Mountain\n",
       "album_id                                       6TTVTpnfhq9WCQw4OXbQ0E\n",
       "image               https://i.scdn.co/image/ab67616d0000b27357d2e1...\n",
       "track_popularity                                                   14\n",
       "Name: 0, dtype: object"
      ]
     },
     "execution_count": 92,
     "metadata": {},
     "output_type": "execute_result"
    }
   ],
   "source": [
    "rec_df.iloc[0]"
   ]
  },
  {
   "cell_type": "code",
   "execution_count": 87,
   "metadata": {},
   "outputs": [],
   "source": [
    "save_path = Path('../data/recommended.json')\n",
    "rec_df.to_pickle(save_path)"
   ]
  }
 ],
 "metadata": {
  "kernelspec": {
   "display_name": "env",
   "language": "python",
   "name": "python3"
  },
  "language_info": {
   "codemirror_mode": {
    "name": "ipython",
    "version": 3
   },
   "file_extension": ".py",
   "mimetype": "text/x-python",
   "name": "python",
   "nbconvert_exporter": "python",
   "pygments_lexer": "ipython3",
   "version": "3.11.0"
  }
 },
 "nbformat": 4,
 "nbformat_minor": 2
}
