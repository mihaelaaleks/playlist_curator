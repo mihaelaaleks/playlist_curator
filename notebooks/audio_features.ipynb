{
 "cells": [
  {
   "cell_type": "code",
   "execution_count": 1,
   "metadata": {},
   "outputs": [],
   "source": [
    "%load_ext autoreload\n",
    "%autoreload 2"
   ]
  },
  {
   "cell_type": "code",
   "execution_count": 2,
   "metadata": {},
   "outputs": [],
   "source": [
    "import pandas as pd\n",
    "import sys\n",
    "import os"
   ]
  },
  {
   "cell_type": "code",
   "execution_count": 3,
   "metadata": {},
   "outputs": [],
   "source": [
    "# workaround for relative import from app\n",
    "app_path = os.path.abspath(os.path.join('..'))\n",
    "if app_path not in sys.path: \n",
    "    sys.path.append(app_path)"
   ]
  },
  {
   "cell_type": "code",
   "execution_count": 4,
   "metadata": {},
   "outputs": [],
   "source": [
    "from app import spotipy_requests\n",
    "from app import utils"
   ]
  },
  {
   "cell_type": "code",
   "execution_count": 5,
   "metadata": {},
   "outputs": [],
   "source": [
    "spotify = spotipy_requests.create_spotify()"
   ]
  },
  {
   "cell_type": "code",
   "execution_count": 6,
   "metadata": {},
   "outputs": [],
   "source": [
    "df = pd.read_pickle('../data/my_presentable_playlists.pkl')"
   ]
  },
  {
   "cell_type": "code",
   "execution_count": null,
   "metadata": {},
   "outputs": [],
   "source": [
    "playlist_ids = df['id'].tolist()"
   ]
  },
  {
   "cell_type": "code",
   "execution_count": null,
   "metadata": {},
   "outputs": [],
   "source": [
    "playlist_tracks = spotipy_requests.get_playlists_tracks(playlist_ids, spotify)"
   ]
  },
  {
   "cell_type": "code",
   "execution_count": null,
   "metadata": {},
   "outputs": [],
   "source": [
    "track_references = utils.get_playlist_track_artist_map(playlist_tracks)"
   ]
  },
  {
   "cell_type": "code",
   "execution_count": null,
   "metadata": {},
   "outputs": [],
   "source": [
    "df = pd.DataFrame.from_records(track_references)"
   ]
  },
  {
   "cell_type": "code",
   "execution_count": 37,
   "metadata": {},
   "outputs": [],
   "source": [
    "df = pd.read_pickle('../data/playlist_id_map.pkl')"
   ]
  },
  {
   "cell_type": "code",
   "execution_count": 38,
   "metadata": {},
   "outputs": [
    {
     "data": {
      "text/plain": [
       "Index(['track_id', 'track_name', 'artist_id', 'artist_name', 'popularity',\n",
       "       'playlist_id'],\n",
       "      dtype='object')"
      ]
     },
     "execution_count": 38,
     "metadata": {},
     "output_type": "execute_result"
    }
   ],
   "source": [
    "df.columns"
   ]
  },
  {
   "cell_type": "code",
   "execution_count": 36,
   "metadata": {},
   "outputs": [
    {
     "ename": "KeyError",
     "evalue": "'playlist_id'",
     "output_type": "error",
     "traceback": [
      "\u001b[1;31m---------------------------------------------------------------------------\u001b[0m",
      "\u001b[1;31mKeyError\u001b[0m                                  Traceback (most recent call last)",
      "Cell \u001b[1;32mIn[36], line 1\u001b[0m\n\u001b[1;32m----> 1\u001b[0m df \u001b[38;5;241m=\u001b[39m df\u001b[38;5;241m.\u001b[39mloc[\u001b[43mdf\u001b[49m\u001b[43m[\u001b[49m\u001b[38;5;124;43m'\u001b[39;49m\u001b[38;5;124;43mplaylist_id\u001b[39;49m\u001b[38;5;124;43m'\u001b[39;49m\u001b[43m]\u001b[49m \u001b[38;5;241m==\u001b[39m \u001b[38;5;124m'\u001b[39m\u001b[38;5;124m7ryAqRhEED5CNarJgIXxgd\u001b[39m\u001b[38;5;124m'\u001b[39m]\n",
      "File \u001b[1;32md:\\ICT_SE_S7\\curator_tool\\playlist_curator\\env\\Lib\\site-packages\\pandas\\core\\frame.py:3896\u001b[0m, in \u001b[0;36mDataFrame.__getitem__\u001b[1;34m(self, key)\u001b[0m\n\u001b[0;32m   3894\u001b[0m \u001b[38;5;28;01mif\u001b[39;00m \u001b[38;5;28mself\u001b[39m\u001b[38;5;241m.\u001b[39mcolumns\u001b[38;5;241m.\u001b[39mnlevels \u001b[38;5;241m>\u001b[39m \u001b[38;5;241m1\u001b[39m:\n\u001b[0;32m   3895\u001b[0m     \u001b[38;5;28;01mreturn\u001b[39;00m \u001b[38;5;28mself\u001b[39m\u001b[38;5;241m.\u001b[39m_getitem_multilevel(key)\n\u001b[1;32m-> 3896\u001b[0m indexer \u001b[38;5;241m=\u001b[39m \u001b[38;5;28;43mself\u001b[39;49m\u001b[38;5;241;43m.\u001b[39;49m\u001b[43mcolumns\u001b[49m\u001b[38;5;241;43m.\u001b[39;49m\u001b[43mget_loc\u001b[49m\u001b[43m(\u001b[49m\u001b[43mkey\u001b[49m\u001b[43m)\u001b[49m\n\u001b[0;32m   3897\u001b[0m \u001b[38;5;28;01mif\u001b[39;00m is_integer(indexer):\n\u001b[0;32m   3898\u001b[0m     indexer \u001b[38;5;241m=\u001b[39m [indexer]\n",
      "File \u001b[1;32md:\\ICT_SE_S7\\curator_tool\\playlist_curator\\env\\Lib\\site-packages\\pandas\\core\\indexes\\range.py:418\u001b[0m, in \u001b[0;36mRangeIndex.get_loc\u001b[1;34m(self, key)\u001b[0m\n\u001b[0;32m    416\u001b[0m         \u001b[38;5;28;01mraise\u001b[39;00m \u001b[38;5;167;01mKeyError\u001b[39;00m(key) \u001b[38;5;28;01mfrom\u001b[39;00m \u001b[38;5;21;01merr\u001b[39;00m\n\u001b[0;32m    417\u001b[0m \u001b[38;5;28;01mif\u001b[39;00m \u001b[38;5;28misinstance\u001b[39m(key, Hashable):\n\u001b[1;32m--> 418\u001b[0m     \u001b[38;5;28;01mraise\u001b[39;00m \u001b[38;5;167;01mKeyError\u001b[39;00m(key)\n\u001b[0;32m    419\u001b[0m \u001b[38;5;28mself\u001b[39m\u001b[38;5;241m.\u001b[39m_check_indexing_error(key)\n\u001b[0;32m    420\u001b[0m \u001b[38;5;28;01mraise\u001b[39;00m \u001b[38;5;167;01mKeyError\u001b[39;00m(key)\n",
      "\u001b[1;31mKeyError\u001b[0m: 'playlist_id'"
     ]
    }
   ],
   "source": [
    "df = df.loc[df['playlist_id'] == '7ryAqRhEED5CNarJgIXxgd']"
   ]
  },
  {
   "cell_type": "code",
   "execution_count": 18,
   "metadata": {},
   "outputs": [],
   "source": [
    "track_dict = df.to_dict(orient='records')"
   ]
  },
  {
   "cell_type": "code",
   "execution_count": 23,
   "metadata": {},
   "outputs": [
    {
     "data": {
      "text/plain": [
       "41"
      ]
     },
     "execution_count": 23,
     "metadata": {},
     "output_type": "execute_result"
    }
   ],
   "source": [
    "track_dict[0]['popularity']"
   ]
  },
  {
   "cell_type": "code",
   "execution_count": 24,
   "metadata": {},
   "outputs": [],
   "source": [
    "from plotly_flask.models.playlist_logic import get_tracklist"
   ]
  },
  {
   "cell_type": "code",
   "execution_count": 32,
   "metadata": {},
   "outputs": [],
   "source": [
    "tracklist = get_tracklist('7ryAqRhEED5CNarJgIXxgd')"
   ]
  },
  {
   "cell_type": "code",
   "execution_count": 39,
   "metadata": {},
   "outputs": [],
   "source": [
    "df = pd.DataFrame.from_records(tracklist, columns=['track_id', 'track_name', 'artist_id', 'artist_name', 'popularity',\n",
    "       'playlist_id'])"
   ]
  },
  {
   "cell_type": "code",
   "execution_count": 41,
   "metadata": {},
   "outputs": [
    {
     "data": {
      "text/plain": [
       "37.095238095238095"
      ]
     },
     "execution_count": 41,
     "metadata": {},
     "output_type": "execute_result"
    }
   ],
   "source": [
    "df['popularity'].mean()"
   ]
  },
  {
   "cell_type": "code",
   "execution_count": 40,
   "metadata": {},
   "outputs": [
    {
     "data": {
      "text/html": [
       "<div>\n",
       "<style scoped>\n",
       "    .dataframe tbody tr th:only-of-type {\n",
       "        vertical-align: middle;\n",
       "    }\n",
       "\n",
       "    .dataframe tbody tr th {\n",
       "        vertical-align: top;\n",
       "    }\n",
       "\n",
       "    .dataframe thead th {\n",
       "        text-align: right;\n",
       "    }\n",
       "</style>\n",
       "<table border=\"1\" class=\"dataframe\">\n",
       "  <thead>\n",
       "    <tr style=\"text-align: right;\">\n",
       "      <th></th>\n",
       "      <th>track_id</th>\n",
       "      <th>track_name</th>\n",
       "      <th>artist_id</th>\n",
       "      <th>artist_name</th>\n",
       "      <th>popularity</th>\n",
       "      <th>playlist_id</th>\n",
       "    </tr>\n",
       "  </thead>\n",
       "  <tbody>\n",
       "    <tr>\n",
       "      <th>0</th>\n",
       "      <td>44aWLpgPYRiZRUVTXyc6ul</td>\n",
       "      <td>Freaks to the Front</td>\n",
       "      <td>3NqV2DJoAWsjl787bWaHW7</td>\n",
       "      <td>Amyl and The Sniffers</td>\n",
       "      <td>41</td>\n",
       "      <td>7ryAqRhEED5CNarJgIXxgd</td>\n",
       "    </tr>\n",
       "    <tr>\n",
       "      <th>1</th>\n",
       "      <td>4D9ZhgFxgTJ80QIRHjhtiI</td>\n",
       "      <td>Give Me A Bite</td>\n",
       "      <td>0YSaA3PB82JjyHSPq30lO3</td>\n",
       "      <td>C.O.F.F.I.N</td>\n",
       "      <td>24</td>\n",
       "      <td>7ryAqRhEED5CNarJgIXxgd</td>\n",
       "    </tr>\n",
       "    <tr>\n",
       "      <th>2</th>\n",
       "      <td>0ZPPdsGd5AGHndPiUpmXXm</td>\n",
       "      <td>Don't Fence Me In</td>\n",
       "      <td>3NqV2DJoAWsjl787bWaHW7</td>\n",
       "      <td>Amyl and The Sniffers</td>\n",
       "      <td>34</td>\n",
       "      <td>7ryAqRhEED5CNarJgIXxgd</td>\n",
       "    </tr>\n",
       "    <tr>\n",
       "      <th>3</th>\n",
       "      <td>7l6yDpU2vIDXFQpdEYgpNO</td>\n",
       "      <td>PARDON?</td>\n",
       "      <td>0HutkALC7kq2L8b9bnZUkq</td>\n",
       "      <td>Otoboke Beaver</td>\n",
       "      <td>34</td>\n",
       "      <td>7ryAqRhEED5CNarJgIXxgd</td>\n",
       "    </tr>\n",
       "    <tr>\n",
       "      <th>4</th>\n",
       "      <td>2G0JzOQkPDMIP29odjONlK</td>\n",
       "      <td>Jiu Jits You</td>\n",
       "      <td>26HCuM5PamldoaHII5Ifxc</td>\n",
       "      <td>Panic Shack</td>\n",
       "      <td>30</td>\n",
       "      <td>7ryAqRhEED5CNarJgIXxgd</td>\n",
       "    </tr>\n",
       "    <tr>\n",
       "      <th>5</th>\n",
       "      <td>4B4CQ84BBpHK5d02cWKUb0</td>\n",
       "      <td>Never Fight A Man With A Perm</td>\n",
       "      <td>75mafsNqNE1WSEVxIKuY5C</td>\n",
       "      <td>IDLES</td>\n",
       "      <td>60</td>\n",
       "      <td>7ryAqRhEED5CNarJgIXxgd</td>\n",
       "    </tr>\n",
       "    <tr>\n",
       "      <th>6</th>\n",
       "      <td>2OF2mC2loQB9VUbgjR1V02</td>\n",
       "      <td>Gacked on Anger</td>\n",
       "      <td>3NqV2DJoAWsjl787bWaHW7</td>\n",
       "      <td>Amyl and The Sniffers</td>\n",
       "      <td>0</td>\n",
       "      <td>7ryAqRhEED5CNarJgIXxgd</td>\n",
       "    </tr>\n",
       "    <tr>\n",
       "      <th>7</th>\n",
       "      <td>63lsZSbzF0ftRZynkijeqf</td>\n",
       "      <td>HEAD</td>\n",
       "      <td>0wNZvrIMNUCs24G0wFg2D6</td>\n",
       "      <td>Jeff Rosenstock</td>\n",
       "      <td>38</td>\n",
       "      <td>7ryAqRhEED5CNarJgIXxgd</td>\n",
       "    </tr>\n",
       "    <tr>\n",
       "      <th>8</th>\n",
       "      <td>4W4W4bvS5F9x7H9GT6ukDu</td>\n",
       "      <td>GFY</td>\n",
       "      <td>3NqV2DJoAWsjl787bWaHW7</td>\n",
       "      <td>Amyl and The Sniffers</td>\n",
       "      <td>43</td>\n",
       "      <td>7ryAqRhEED5CNarJgIXxgd</td>\n",
       "    </tr>\n",
       "    <tr>\n",
       "      <th>9</th>\n",
       "      <td>6QrFV5Z2K5kvSHPzM3vjI3</td>\n",
       "      <td>The Ick</td>\n",
       "      <td>26HCuM5PamldoaHII5Ifxc</td>\n",
       "      <td>Panic Shack</td>\n",
       "      <td>42</td>\n",
       "      <td>7ryAqRhEED5CNarJgIXxgd</td>\n",
       "    </tr>\n",
       "    <tr>\n",
       "      <th>10</th>\n",
       "      <td>1Kxhc17HEPIAI5dD2tvhZx</td>\n",
       "      <td>Perfect</td>\n",
       "      <td>33yje3hgpNfdXpqdJQcrt9</td>\n",
       "      <td>Mannequin Pussy</td>\n",
       "      <td>42</td>\n",
       "      <td>7ryAqRhEED5CNarJgIXxgd</td>\n",
       "    </tr>\n",
       "    <tr>\n",
       "      <th>11</th>\n",
       "      <td>2jQ1P0aGT4WkNyJCeoQnb9</td>\n",
       "      <td>PUNK TACTICS</td>\n",
       "      <td>1q4618qKswelCGLoanFKQh</td>\n",
       "      <td>Joey Valence &amp; Brae</td>\n",
       "      <td>71</td>\n",
       "      <td>7ryAqRhEED5CNarJgIXxgd</td>\n",
       "    </tr>\n",
       "    <tr>\n",
       "      <th>12</th>\n",
       "      <td>3ucy73n13EVszK4qxIhBhE</td>\n",
       "      <td>Powerball</td>\n",
       "      <td>197lTCdMFPariBJ2Xd1xNb</td>\n",
       "      <td>Snõõper</td>\n",
       "      <td>36</td>\n",
       "      <td>7ryAqRhEED5CNarJgIXxgd</td>\n",
       "    </tr>\n",
       "    <tr>\n",
       "      <th>13</th>\n",
       "      <td>0xsW1QJeuM1LGnq7tGEn0n</td>\n",
       "      <td>No Skin</td>\n",
       "      <td>7048m4MIH8tIPGrSAfiN0a</td>\n",
       "      <td>Aborted Tortoise</td>\n",
       "      <td>34</td>\n",
       "      <td>7ryAqRhEED5CNarJgIXxgd</td>\n",
       "    </tr>\n",
       "    <tr>\n",
       "      <th>14</th>\n",
       "      <td>5xUXCiLborciLxPuiqPDXZ</td>\n",
       "      <td>Pretty</td>\n",
       "      <td>5wKtvUJOtdIcDgIc68WpOv</td>\n",
       "      <td>Mini Skirt</td>\n",
       "      <td>36</td>\n",
       "      <td>7ryAqRhEED5CNarJgIXxgd</td>\n",
       "    </tr>\n",
       "    <tr>\n",
       "      <th>15</th>\n",
       "      <td>3ve9qtsYSwheX25pAGtUCU</td>\n",
       "      <td>Saboteur</td>\n",
       "      <td>3XWRl19mJPqyWHfvehJAMD</td>\n",
       "      <td>Private Function</td>\n",
       "      <td>32</td>\n",
       "      <td>7ryAqRhEED5CNarJgIXxgd</td>\n",
       "    </tr>\n",
       "    <tr>\n",
       "      <th>16</th>\n",
       "      <td>6YCNsdjuWPMClhE5rrcVtS</td>\n",
       "      <td>Monsoon Rock</td>\n",
       "      <td>3NqV2DJoAWsjl787bWaHW7</td>\n",
       "      <td>Amyl and The Sniffers</td>\n",
       "      <td>31</td>\n",
       "      <td>7ryAqRhEED5CNarJgIXxgd</td>\n",
       "    </tr>\n",
       "    <tr>\n",
       "      <th>17</th>\n",
       "      <td>7worJxkALnoIVhtw9Zi3sq</td>\n",
       "      <td>Jusavinageez</td>\n",
       "      <td>3XWRl19mJPqyWHfvehJAMD</td>\n",
       "      <td>Private Function</td>\n",
       "      <td>30</td>\n",
       "      <td>7ryAqRhEED5CNarJgIXxgd</td>\n",
       "    </tr>\n",
       "    <tr>\n",
       "      <th>18</th>\n",
       "      <td>20atdt1Upmx1npN3zY4JtM</td>\n",
       "      <td>Security</td>\n",
       "      <td>3NqV2DJoAWsjl787bWaHW7</td>\n",
       "      <td>Amyl and The Sniffers</td>\n",
       "      <td>48</td>\n",
       "      <td>7ryAqRhEED5CNarJgIXxgd</td>\n",
       "    </tr>\n",
       "    <tr>\n",
       "      <th>19</th>\n",
       "      <td>5hfg93xxKkaYMcYQIa7Kyn</td>\n",
       "      <td>Fast Love</td>\n",
       "      <td>0YSaA3PB82JjyHSPq30lO3</td>\n",
       "      <td>C.O.F.F.I.N</td>\n",
       "      <td>31</td>\n",
       "      <td>7ryAqRhEED5CNarJgIXxgd</td>\n",
       "    </tr>\n",
       "    <tr>\n",
       "      <th>20</th>\n",
       "      <td>3wu6pRZrOAAet8YxeZ49nv</td>\n",
       "      <td>Bitch Theme</td>\n",
       "      <td>3GTaO7e3uPaG0SJR7Hxy8L</td>\n",
       "      <td>Bratmobile</td>\n",
       "      <td>42</td>\n",
       "      <td>7ryAqRhEED5CNarJgIXxgd</td>\n",
       "    </tr>\n",
       "  </tbody>\n",
       "</table>\n",
       "</div>"
      ],
      "text/plain": [
       "                  track_id                     track_name  \\\n",
       "0   44aWLpgPYRiZRUVTXyc6ul            Freaks to the Front   \n",
       "1   4D9ZhgFxgTJ80QIRHjhtiI                 Give Me A Bite   \n",
       "2   0ZPPdsGd5AGHndPiUpmXXm              Don't Fence Me In   \n",
       "3   7l6yDpU2vIDXFQpdEYgpNO                        PARDON?   \n",
       "4   2G0JzOQkPDMIP29odjONlK                   Jiu Jits You   \n",
       "5   4B4CQ84BBpHK5d02cWKUb0  Never Fight A Man With A Perm   \n",
       "6   2OF2mC2loQB9VUbgjR1V02                Gacked on Anger   \n",
       "7   63lsZSbzF0ftRZynkijeqf                           HEAD   \n",
       "8   4W4W4bvS5F9x7H9GT6ukDu                            GFY   \n",
       "9   6QrFV5Z2K5kvSHPzM3vjI3                        The Ick   \n",
       "10  1Kxhc17HEPIAI5dD2tvhZx                        Perfect   \n",
       "11  2jQ1P0aGT4WkNyJCeoQnb9                   PUNK TACTICS   \n",
       "12  3ucy73n13EVszK4qxIhBhE                      Powerball   \n",
       "13  0xsW1QJeuM1LGnq7tGEn0n                        No Skin   \n",
       "14  5xUXCiLborciLxPuiqPDXZ                         Pretty   \n",
       "15  3ve9qtsYSwheX25pAGtUCU                       Saboteur   \n",
       "16  6YCNsdjuWPMClhE5rrcVtS                   Monsoon Rock   \n",
       "17  7worJxkALnoIVhtw9Zi3sq                   Jusavinageez   \n",
       "18  20atdt1Upmx1npN3zY4JtM                       Security   \n",
       "19  5hfg93xxKkaYMcYQIa7Kyn                      Fast Love   \n",
       "20  3wu6pRZrOAAet8YxeZ49nv                    Bitch Theme   \n",
       "\n",
       "                 artist_id            artist_name  popularity  \\\n",
       "0   3NqV2DJoAWsjl787bWaHW7  Amyl and The Sniffers          41   \n",
       "1   0YSaA3PB82JjyHSPq30lO3            C.O.F.F.I.N          24   \n",
       "2   3NqV2DJoAWsjl787bWaHW7  Amyl and The Sniffers          34   \n",
       "3   0HutkALC7kq2L8b9bnZUkq         Otoboke Beaver          34   \n",
       "4   26HCuM5PamldoaHII5Ifxc            Panic Shack          30   \n",
       "5   75mafsNqNE1WSEVxIKuY5C                  IDLES          60   \n",
       "6   3NqV2DJoAWsjl787bWaHW7  Amyl and The Sniffers           0   \n",
       "7   0wNZvrIMNUCs24G0wFg2D6        Jeff Rosenstock          38   \n",
       "8   3NqV2DJoAWsjl787bWaHW7  Amyl and The Sniffers          43   \n",
       "9   26HCuM5PamldoaHII5Ifxc            Panic Shack          42   \n",
       "10  33yje3hgpNfdXpqdJQcrt9        Mannequin Pussy          42   \n",
       "11  1q4618qKswelCGLoanFKQh    Joey Valence & Brae          71   \n",
       "12  197lTCdMFPariBJ2Xd1xNb                Snõõper          36   \n",
       "13  7048m4MIH8tIPGrSAfiN0a       Aborted Tortoise          34   \n",
       "14  5wKtvUJOtdIcDgIc68WpOv             Mini Skirt          36   \n",
       "15  3XWRl19mJPqyWHfvehJAMD       Private Function          32   \n",
       "16  3NqV2DJoAWsjl787bWaHW7  Amyl and The Sniffers          31   \n",
       "17  3XWRl19mJPqyWHfvehJAMD       Private Function          30   \n",
       "18  3NqV2DJoAWsjl787bWaHW7  Amyl and The Sniffers          48   \n",
       "19  0YSaA3PB82JjyHSPq30lO3            C.O.F.F.I.N          31   \n",
       "20  3GTaO7e3uPaG0SJR7Hxy8L             Bratmobile          42   \n",
       "\n",
       "               playlist_id  \n",
       "0   7ryAqRhEED5CNarJgIXxgd  \n",
       "1   7ryAqRhEED5CNarJgIXxgd  \n",
       "2   7ryAqRhEED5CNarJgIXxgd  \n",
       "3   7ryAqRhEED5CNarJgIXxgd  \n",
       "4   7ryAqRhEED5CNarJgIXxgd  \n",
       "5   7ryAqRhEED5CNarJgIXxgd  \n",
       "6   7ryAqRhEED5CNarJgIXxgd  \n",
       "7   7ryAqRhEED5CNarJgIXxgd  \n",
       "8   7ryAqRhEED5CNarJgIXxgd  \n",
       "9   7ryAqRhEED5CNarJgIXxgd  \n",
       "10  7ryAqRhEED5CNarJgIXxgd  \n",
       "11  7ryAqRhEED5CNarJgIXxgd  \n",
       "12  7ryAqRhEED5CNarJgIXxgd  \n",
       "13  7ryAqRhEED5CNarJgIXxgd  \n",
       "14  7ryAqRhEED5CNarJgIXxgd  \n",
       "15  7ryAqRhEED5CNarJgIXxgd  \n",
       "16  7ryAqRhEED5CNarJgIXxgd  \n",
       "17  7ryAqRhEED5CNarJgIXxgd  \n",
       "18  7ryAqRhEED5CNarJgIXxgd  \n",
       "19  7ryAqRhEED5CNarJgIXxgd  \n",
       "20  7ryAqRhEED5CNarJgIXxgd  "
      ]
     },
     "execution_count": 40,
     "metadata": {},
     "output_type": "execute_result"
    }
   ],
   "source": [
    "df"
   ]
  },
  {
   "cell_type": "code",
   "execution_count": null,
   "metadata": {},
   "outputs": [],
   "source": [
    "import json\n",
    "with open('../data/playlist_id_map.json', 'w') as f:\n",
    "    json.dump(track_references, f)"
   ]
  },
  {
   "cell_type": "code",
   "execution_count": null,
   "metadata": {},
   "outputs": [],
   "source": [
    "tracks_df = pd.DataFrame.from_records(track_references)"
   ]
  },
  {
   "cell_type": "code",
   "execution_count": null,
   "metadata": {},
   "outputs": [],
   "source": [
    "tracks_df.to_pickle(path='../data/playlist_id_map.pkl')"
   ]
  }
 ],
 "metadata": {
  "kernelspec": {
   "display_name": "env",
   "language": "python",
   "name": "python3"
  },
  "language_info": {
   "codemirror_mode": {
    "name": "ipython",
    "version": 3
   },
   "file_extension": ".py",
   "mimetype": "text/x-python",
   "name": "python",
   "nbconvert_exporter": "python",
   "pygments_lexer": "ipython3",
   "version": "3.11.0"
  },
  "orig_nbformat": 4
 },
 "nbformat": 4,
 "nbformat_minor": 2
}
