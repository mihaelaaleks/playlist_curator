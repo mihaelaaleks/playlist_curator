{
 "cells": [
  {
   "cell_type": "code",
   "execution_count": 1,
   "metadata": {},
   "outputs": [],
   "source": [
    "import pandas as pd\n",
    "import json\n",
    "from pathlib import Path"
   ]
  },
  {
   "cell_type": "code",
   "execution_count": 2,
   "metadata": {},
   "outputs": [],
   "source": [
    "filepath = Path('data/recently_played_170923.json')"
   ]
  },
  {
   "cell_type": "code",
   "execution_count": 3,
   "metadata": {},
   "outputs": [],
   "source": [
    "with open(filepath, 'r') as file: \n",
    "    test_data = json.loads(file.read())\n",
    "    \n",
    "items_data = test_data['items']"
   ]
  },
  {
   "cell_type": "code",
   "execution_count": null,
   "metadata": {},
   "outputs": [],
   "source": [
    "# artists is a list because what if song has more than 1 artist\n",
    "# also the api call will only return songs played in full - so even if the limit is set to 50\n",
    "# the response might have only 42 items\n",
    "items_data[0]['track']['artists'][0]['name']"
   ]
  },
  {
   "cell_type": "code",
   "execution_count": null,
   "metadata": {},
   "outputs": [],
   "source": [
    "items_data[0]['track'].keys()"
   ]
  },
  {
   "cell_type": "code",
   "execution_count": null,
   "metadata": {},
   "outputs": [],
   "source": [
    "items_data[0].items()"
   ]
  },
  {
   "cell_type": "code",
   "execution_count": null,
   "metadata": {},
   "outputs": [],
   "source": [
    "item_track_name = items_data[0]['track']['name']\n",
    "item_track_id = items_data[0]['track']['id']\n",
    "item_track_artists = items_data[0]['track']['artists']\n",
    "item_track_artists"
   ]
  },
  {
   "cell_type": "code",
   "execution_count": null,
   "metadata": {},
   "outputs": [],
   "source": [
    "d = [{\"tracks\":\"fake\"}, {\"tracks\":\"fake2\", \"not_track\":\"really fake\"}]"
   ]
  },
  {
   "cell_type": "code",
   "execution_count": null,
   "metadata": {},
   "outputs": [],
   "source": [
    "tracks = []\n",
    "for item in items_data:\n",
    "    tracks.append(item[\"track\"])"
   ]
  },
  {
   "cell_type": "code",
   "execution_count": null,
   "metadata": {},
   "outputs": [],
   "source": [
    "track_df_items = []\n",
    "for track in tracks:\n",
    "    track_id = track[\"id\"]\n",
    "    track_name = track[\"name\"]\n",
    "    entry = {\"track_id\":track_id, \"track_name\":track_name}\n",
    "    track_df_items.append(entry)"
   ]
  },
  {
   "cell_type": "code",
   "execution_count": null,
   "metadata": {},
   "outputs": [],
   "source": [
    "import pprint\n",
    "\n",
    "data_dict = {}\n",
    "# how tf would i be able to test this\n",
    "for i in range(len(items_data)): \n",
    "    track_id = items_data[i]['track']['id']\n",
    "    track_name = items_data[i]['track']['name']\n",
    "    # the issue comes from a track having a list of artists\n",
    "    # so figuring out this nesting might suck\n",
    "    track_artist_name = items_data[i]['track']['artists'][0]['name']\n",
    "    track_artist_id = items_data[i]['track']['artists'][0]['id']\n",
    "    track_popularity = items_data[i]['track']['popularity']\n",
    "    # print(track_id + ' ' + track_name + '-- ' + track_artist_id + ' -- ' + track_artist_name)\n",
    "    data_dict[i] = {\n",
    "        \"track_id\" : track_id, \n",
    "        \"track_name\" : track_name,\n",
    "        \"track_artist_id\" : track_artist_id,\n",
    "        \"track_artist_name\" : track_artist_name, \n",
    "        \"track_popularity\" : track_popularity\n",
    "    }\n",
    "\n",
    "pprint.pprint(data_dict)    "
   ]
  },
  {
   "cell_type": "code",
   "execution_count": null,
   "metadata": {},
   "outputs": [],
   "source": [
    "pd.DataFrame(data_dict).T"
   ]
  },
  {
   "cell_type": "code",
   "execution_count": null,
   "metadata": {},
   "outputs": [],
   "source": []
  }
 ],
 "metadata": {
  "kernelspec": {
   "display_name": "env",
   "language": "python",
   "name": "python3"
  },
  "language_info": {
   "codemirror_mode": {
    "name": "ipython",
    "version": 3
   },
   "file_extension": ".py",
   "mimetype": "text/x-python",
   "name": "python",
   "nbconvert_exporter": "python",
   "pygments_lexer": "ipython3",
   "version": "3.11.0"
  },
  "orig_nbformat": 4
 },
 "nbformat": 4,
 "nbformat_minor": 2
}
